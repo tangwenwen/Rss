{
 "cells": [
  {
   "cell_type": "code",
   "execution_count": 1,
   "metadata": {},
   "outputs": [],
   "source": [
    "import pandas as pd\n",
    "from sklearn.model_selection import train_test_split\n",
    "\n",
    "import warnings\n",
    "warnings.filterwarnings('ignore')"
   ]
  },
  {
   "cell_type": "code",
   "execution_count": 2,
   "metadata": {},
   "outputs": [],
   "source": [
    "\n",
    "# 读取数据\n",
    "movies_path = './data/ml-1m/movies.dat'\n",
    "ratings_path = './data/ml-1m/ratings.dat'\n",
    "\n",
    "movies_cols = 'MovieID::Title::Genres'.split(\"::\")\n",
    "ratings_cols = 'UserID::MovieID::Rating::Timestamp'.split('::')\n",
    "\n",
    "moviesDF = pd.read_csv(movies_path, sep='::', names=movies_cols)\n",
    "ratingsDF = pd.read_csv(ratings_path, sep='::', names=ratings_cols)\n"
   ]
  },
  {
   "cell_type": "code",
   "execution_count": 3,
   "metadata": {},
   "outputs": [
    {
     "name": "stderr",
     "output_type": "stream",
     "text": [
      "IOPub data rate exceeded.\n",
      "The notebook server will temporarily stop sending output\n",
      "to the client in order to avoid crashing it.\n",
      "To change this limit, set the config variable\n",
      "`--NotebookApp.iopub_data_rate_limit`.\n",
      "\n",
      "Current values:\n",
      "NotebookApp.iopub_data_rate_limit=1000000.0 (bytes/sec)\n",
      "NotebookApp.rate_limit_window=3.0 (secs)\n",
      "\n"
     ]
    }
   ],
   "source": [
    "# 构建users-items矩阵\n",
    "# pandas pivot_table数据表透视: 行索引UserID,列索引MovieID,值Rating,填充值0\n",
    "ratingPivotDF = pd.pivot_table(ratingsDF[['UserID','MovieID','Rating']],\\\n",
    "                                           columns=['MovieID'],index=['UserID'],\\\n",
    "                                           values='Rating',fill_value=0)\n",
    "# 得到users字典以及movies字典,方便由id得到名称\n",
    "users_map = dict(enumerate(list(ratingPivotDF.index)))\n",
    "movies_map = dict(enumerate(list(ratingPivotDF.columns)))\n",
    "\n",
    "# users-items矩阵:去除dataframe格式\n",
    "ratings = ratingPivotDF.values.tolist()\n",
    "print(ratings)"
   ]
  },
  {
   "cell_type": "code",
   "execution_count": null,
   "metadata": {},
   "outputs": [],
   "source": [
    "import math\n",
    "import numpy as np\n",
    "\n",
    "# 用户之间相似度计算\n",
    "def calCosineSimilarity(vec1,vec2):\n",
    "    numerator = 0.0\n",
    "    denominator1 = 0.0\n",
    "    denominator2 = 0.0\n",
    "    \n",
    "    for (val1, val2) in zip(vec1, vec2):\n",
    "        numerator += val1 * val2\n",
    "        denominator1 += val1 ** 2\n",
    "        denominator2 += val2 ** 2\n",
    "    \n",
    "    return numerator / math.sqrt(denominator1 * denominator2)\n",
    "\n",
    "# 用户相似度矩阵:对称矩阵\n",
    "users_similarity_matrix = np.zeros([len(ratings), len(ratings)], dtype=np.float32)\n",
    "# 用户本身的相似度没有意义;同时因为对称矩阵,可以只计算上三角部分\n",
    "for i in range(len(ratings)-1):#i,j:newID for users\n",
    "    for j in range(i+1, len(ratings)):\n",
    "        users_similarity_matrix[i,j] = calCosineSimilarity(ratings[i], ratings[j])\n",
    "        users_similarity_matrix[j,i] = users_similarity_matrix[i,j]"
   ]
  },
  {
   "cell_type": "code",
   "execution_count": null,
   "metadata": {},
   "outputs": [],
   "source": [
    "\n",
    "# 筛选topK相似用户集合,超参数K设置为10\n",
    "users_most_simi = dict()# key:userid, value: dict contailing the userID and the similarity\n",
    "K = 10\n",
    "for i in range(len(ratings)):# i: newID for users, or the index for users\n",
    "    # 没有用到用户名称(原始用户ID)\n",
    "    users_most_simi[i] = sorted(enumerate(list(ratings[i])), key=lambda x: x[1],reverse=True)[:K]"
   ]
  },
  {
   "cell_type": "code",
   "execution_count": null,
   "metadata": {},
   "outputs": [],
   "source": [
    "# 为每个用户推荐N个unseen电影,超参数N设置为10\n",
    "N = 10\n",
    "# 为unseen电影评分 unseen : ratings[i,j] = 0\n",
    "\n",
    "user_rec_result = np.zeros([len(ratings), len(ratings[0])], dtype=np.float32)\n",
    "\n",
    "# 遍历ratings,根据是否为0,判断seen or unseen\n",
    "for i in range(len(ratings)):\n",
    "    for j in range(len(ratings[0])):\n",
    "        if ratings[i][j] == 0:# unseen\n",
    "            val = 0\n",
    "            for (u, sim) in users_most_simi[i]:\n",
    "                val += sim * ratings[u][j] \n",
    "            user_rec_result[i,j] = val\n",
    "\n",
    "# 筛选topN个推荐结果\n",
    "recommend = dict()\n",
    "\n",
    "for i in range(len(ratings)):\n",
    "    recommend[i] = sorted(enumerate(list(user_rec_result[i])), key=lambda x:x[1],reverse=True)[:N]\n",
    "\n",
    "# 查询userMap,moviesMap,找到对应的名称\n",
    "recommend_list = list()\n",
    "\n",
    "for key, value in recommend.items():\n",
    "    user = users_map[key]\n",
    "    for (movieID,name) in value:\n",
    "        recommend_list.append([user, movies_map[name]])\n",
    "\n",
    "recommendDF = pd.DataFrame(recommend_list,columns=['UserID','MovieID'])\n",
    "recommendDF = pd.merge(recommendDF,moviesDF[['MovieID','Title']],on='MovieID',how='inner')\n",
    "recommendDF.tail(10)"
   ]
  },
  {
   "cell_type": "code",
   "execution_count": null,
   "metadata": {},
   "outputs": [],
   "source": [
    "recommendDF.head(10)\n",
    "print(recommendDF.head(10))"
   ]
  }
 ],
 "metadata": {
  "kernelspec": {
   "display_name": "Python 3",
   "language": "python",
   "name": "python3"
  },
  "language_info": {
   "codemirror_mode": {
    "name": "ipython",
    "version": 3
   },
   "file_extension": ".py",
   "mimetype": "text/x-python",
   "name": "python",
   "nbconvert_exporter": "python",
   "pygments_lexer": "ipython3",
   "version": "3.6.5"
  }
 },
 "nbformat": 4,
 "nbformat_minor": 2
}
